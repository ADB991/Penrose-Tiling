{
 "cells": [
  {
   "cell_type": "code",
   "execution_count": 1,
   "metadata": {},
   "outputs": [],
   "source": [
    "from tiles import *"
   ]
  },
  {
   "cell_type": "code",
   "execution_count": 2,
   "metadata": {},
   "outputs": [
    {
     "name": "stdout",
     "output_type": "stream",
     "text": [
      "White vertex at [0.0, 0.0]\n",
      "False\n",
      "False\n"
     ]
    }
   ],
   "source": [
    "v1 = Vertex([0,0], 'w')\n",
    "v2 = Vertex([0,4], 'w')\n",
    "print(v1)\n",
    "print(v1==v2)\n",
    "v2.colour = 'b'\n",
    "print(v1==v2)"
   ]
  },
  {
   "cell_type": "code",
   "execution_count": 3,
   "metadata": {},
   "outputs": [
    {
     "data": {
      "text/plain": [
       "[0.0, 1.0]"
      ]
     },
     "execution_count": 3,
     "metadata": {},
     "output_type": "execute_result"
    }
   ],
   "source": [
    "v = Vector([0,1])\n",
    "v"
   ]
  },
  {
   "cell_type": "code",
   "execution_count": 4,
   "metadata": {},
   "outputs": [
    {
     "data": {
      "text/plain": [
       "[0.0, 1.0]"
      ]
     },
     "execution_count": 4,
     "metadata": {},
     "output_type": "execute_result"
    }
   ],
   "source": [
    "list(v)"
   ]
  },
  {
   "cell_type": "code",
   "execution_count": 5,
   "metadata": {},
   "outputs": [],
   "source": [
    "e = Edge(v1, v2, 'g')"
   ]
  },
  {
   "cell_type": "code",
   "execution_count": 6,
   "metadata": {},
   "outputs": [
    {
     "data": {
      "text/plain": [
       "6678426013054745923"
      ]
     },
     "execution_count": 6,
     "metadata": {},
     "output_type": "execute_result"
    }
   ],
   "source": [
    "hash(e)"
   ]
  },
  {
   "cell_type": "code",
   "execution_count": 7,
   "metadata": {},
   "outputs": [
    {
     "data": {
      "text/plain": [
       "(White vertex at [0.0, 0.0], Black vertex at [0.0, 4.0])"
      ]
     },
     "execution_count": 7,
     "metadata": {},
     "output_type": "execute_result"
    }
   ],
   "source": [
    "e.vertices"
   ]
  },
  {
   "cell_type": "code",
   "execution_count": 8,
   "metadata": {},
   "outputs": [
    {
     "name": "stdout",
     "output_type": "stream",
     "text": [
      "True\n",
      "True\n"
     ]
    }
   ],
   "source": [
    "print(v1 in e)\n",
    "v1.colour='w'\n",
    "print(v1 in e)"
   ]
  },
  {
   "cell_type": "code",
   "execution_count": 9,
   "metadata": {},
   "outputs": [],
   "source": [
    "x = [v1, v2]"
   ]
  },
  {
   "cell_type": "code",
   "execution_count": 10,
   "metadata": {},
   "outputs": [
    {
     "data": {
      "text/plain": [
       "2"
      ]
     },
     "execution_count": 10,
     "metadata": {},
     "output_type": "execute_result"
    }
   ],
   "source": [
    "len(set(x))"
   ]
  },
  {
   "cell_type": "code",
   "execution_count": 11,
   "metadata": {},
   "outputs": [
    {
     "name": "stdout",
     "output_type": "stream",
     "text": [
      "White vertex at [0.0, 0.0]\n"
     ]
    }
   ],
   "source": [
    "print(e.white_vertex)"
   ]
  },
  {
   "cell_type": "code",
   "execution_count": 12,
   "metadata": {},
   "outputs": [
    {
     "data": {
      "text/plain": [
       "0.8660254037844387"
      ]
     },
     "execution_count": 12,
     "metadata": {},
     "output_type": "execute_result"
    }
   ],
   "source": [
    "math.cos(math.pi/6)"
   ]
  },
  {
   "cell_type": "code",
   "execution_count": 13,
   "metadata": {},
   "outputs": [
    {
     "data": {
      "text/plain": [
       "(0.0, 0.0)"
      ]
     },
     "execution_count": 13,
     "metadata": {},
     "output_type": "execute_result"
    }
   ],
   "source": [
    "v1.coords"
   ]
  },
  {
   "cell_type": "code",
   "execution_count": 14,
   "metadata": {},
   "outputs": [],
   "source": [
    "k = Kite(e)"
   ]
  },
  {
   "cell_type": "code",
   "execution_count": 15,
   "metadata": {},
   "outputs": [
    {
     "data": {
      "text/plain": [
       "(Green edge between (0.0, 0.0) and (0.0, 4.0),\n",
       " Red edge between (0.0, 4.0) and (-2.351141009169892, 3.2360679774997894),\n",
       " Red edge between (-2.351141009169892, 3.2360679774997894) and (-3.804226065180614, 1.2360679774997898),\n",
       " Green edge between (-3.804226065180614, 1.2360679774997898) and (0.0, 0.0))"
      ]
     },
     "execution_count": 15,
     "metadata": {},
     "output_type": "execute_result"
    }
   ],
   "source": [
    "k.edges"
   ]
  },
  {
   "cell_type": "code",
   "execution_count": 16,
   "metadata": {},
   "outputs": [
    {
     "data": {
      "text/plain": [
       "(Red edge between (0.0, 0.0) and (0.0, 4.0),\n",
       " Green edge between (0.0, 4.0) and (-6.155367074350506, 2.0000000000000004),\n",
       " Green edge between (-6.155367074350506, 2.0000000000000004) and (-2.351141009169893, -3.2360679774997894),\n",
       " Red edge between (-2.351141009169893, -3.2360679774997894) and (0.0, 0.0))"
      ]
     },
     "execution_count": 16,
     "metadata": {},
     "output_type": "execute_result"
    }
   ],
   "source": [
    "e1 = Edge(v1, v2, 'r')\n",
    "k1 = Kite(e1)\n",
    "k1.edges"
   ]
  },
  {
   "cell_type": "code",
   "execution_count": 17,
   "metadata": {},
   "outputs": [
    {
     "data": {
      "text/plain": [
       "(Red edge between (0.0, 0.0) and (0.0, 4.0),\n",
       " Green edge between (0.0, 4.0) and (-6.155367074350506, 2.0000000000000004),\n",
       " Green edge between (-6.155367074350506, 2.0000000000000004) and (-2.351141009169893, -3.2360679774997894),\n",
       " Red edge between (-2.351141009169893, -3.2360679774997894) and (0.0, 0.0))"
      ]
     },
     "execution_count": 17,
     "metadata": {},
     "output_type": "execute_result"
    }
   ],
   "source": [
    "k2 = BetterKite(e1)\n",
    "k2.edges"
   ]
  },
  {
   "cell_type": "code",
   "execution_count": 18,
   "metadata": {},
   "outputs": [
    {
     "data": {
      "text/plain": [
       "(Red edge between (0.0, 0.0) and (0.0, 4.0),\n",
       " Red edge between (0.0, 4.0) and (2.351141009169893, 7.23606797749979),\n",
       " Green edge between (2.351141009169893, 7.23606797749979) and (-3.440954801177933, 5.118033988749894),\n",
       " Green edge between (-3.440954801177933, 5.118033988749894) and (0.0, 0.0))"
      ]
     },
     "execution_count": 18,
     "metadata": {},
     "output_type": "execute_result"
    }
   ],
   "source": [
    "d1 = Dart(e1)\n",
    "d1.edges"
   ]
  },
  {
   "cell_type": "code",
   "execution_count": 19,
   "metadata": {},
   "outputs": [
    {
     "data": {
      "text/plain": [
       "(Green edge between (0.0, 0.0) and (0.0, 4.0),\n",
       " Red edge between (0.0, 0.0) and (1.4530850560107218, 2.0),\n",
       " Red edge between (1.4530850560107218, 2.0) and (3.804226065180614, 2.76393202250021),\n",
       " Green edge between (3.804226065180614, 2.76393202250021) and (0.0, 4.0))"
      ]
     },
     "execution_count": 19,
     "metadata": {},
     "output_type": "execute_result"
    }
   ],
   "source": [
    "d2 = Dart(e)\n",
    "d2.edges"
   ]
  },
  {
   "cell_type": "code",
   "execution_count": 20,
   "metadata": {},
   "outputs": [
    {
     "data": {
      "text/plain": [
       "False"
      ]
     },
     "execution_count": 20,
     "metadata": {},
     "output_type": "execute_result"
    }
   ],
   "source": [
    "v1.rotate_vector(v2/4, math.pi) +v2/4 == Vector([0,0])"
   ]
  },
  {
   "cell_type": "code",
   "execution_count": 21,
   "metadata": {},
   "outputs": [],
   "source": [
    "#THIS IS AN IMPORTANT PROBLEM!! We need differences to be not too precise, more leninet 10*-10 = 0"
   ]
  },
  {
   "cell_type": "code",
   "execution_count": 22,
   "metadata": {},
   "outputs": [
    {
     "data": {
      "text/plain": [
       "-7070580992820677124"
      ]
     },
     "execution_count": 22,
     "metadata": {},
     "output_type": "execute_result"
    }
   ],
   "source": [
    "hash(k)"
   ]
  },
  {
   "cell_type": "code",
   "execution_count": 23,
   "metadata": {},
   "outputs": [],
   "source": [
    "import matplotlib.pyplot as plt"
   ]
  },
  {
   "cell_type": "code",
   "execution_count": 24,
   "metadata": {},
   "outputs": [],
   "source": [
    "def plot_vertex(ax, v):\n",
    "    x, y = v.coords\n",
    "    c = 'bo' if v.colour == 'b' else 'yo'\n",
    "    ax.plot(x,y,c)\n",
    "    \n",
    "def plot_edge(ax, e, with_vertices=False):\n",
    "    v1, v2 = e.vertices\n",
    "    x = [v1[0], v2[0]]\n",
    "    y = [v1[1], v2[1]]\n",
    "    if with_vertices:\n",
    "        for v in e.vertices: plot_vertex(ax,v)\n",
    "    ax.plot(x,y,e.colour)\n",
    "    \n",
    "def plot_tile(ax,tile):\n",
    "    for e in tile.edges: plot_edge(ax,e)\n",
    "    for v in tile.vertices: plot_vertex(ax,v)"
   ]
  },
  {
   "cell_type": "code",
   "execution_count": 25,
   "metadata": {},
   "outputs": [],
   "source": [
    "def prep_ax():\n",
    "    fig=plt.figure()\n",
    "    ax = fig.add_subplot(111)\n",
    "    ax.set_aspect('equal')\n",
    "    return ax\n",
    "\n",
    "def show_tile(tile):\n",
    "    ax = prep_ax()\n",
    "    plot_tile(ax,tile)\n",
    "    plt.show()\n",
    "    \n",
    "def show_tiles(tile_list):\n",
    "    ax = prep_ax()\n",
    "    for tile in tile_list: plot_tile(ax,tile)\n",
    "    plt.show()"
   ]
  },
  {
   "cell_type": "code",
   "execution_count": 40,
   "metadata": {},
   "outputs": [
    {
     "data": {
      "image/png": "[encoded data removed]",
      "text/plain": [
       "<Figure size 432x288 with 1 Axes>"
      ]
     },
     "metadata": {},
     "output_type": "display_data"
    },
    {
     "name": "stdout",
     "output_type": "stream",
     "text": [
      "Vertex to the left of:\n",
      "Edge 1: False\n",
      "Edge 2: False\n",
      "Edge 3: True\n",
      "Edge 4: True\n",
      "Vertex on:\n",
      "Edge 1: False\n",
      "Edge 2: False\n",
      "Edge 3: False\n",
      "Edge 4: False\n",
      "Tiles covers point: False\n"
     ]
    }
   ],
   "source": [
    "ax = prep_ax()\n",
    "test_v = Vertex([-0,-.99], 'b')\n",
    "test_e = Edge(Vertex([-0,0],'b'), Vertex([-1,-1],'w'),'g')\n",
    "test_t =  Dart(test_e)\n",
    "plot_vertex(ax,test_v)\n",
    "plot_tile(ax, test_t)\n",
    "plt.show()\n",
    "print('Vertex to the left of:')\n",
    "for i in range(4):\n",
    "    text = 'Edge '+str(i+1)+': '+str((test_t.edges)[i].to_the_right(test_v))\n",
    "    print(text)\n",
    "print('Vertex on:')\n",
    "for i in range(4):\n",
    "    text = 'Edge '+str(i+1)+': '+str((test_t.edges)[i].contains_point(test_v))\n",
    "    print(text)\n",
    "print('Tiles covers point: '+str(test_t.covers(test_v)))"
   ]
  },
  {
   "cell_type": "code",
   "execution_count": 27,
   "metadata": {},
   "outputs": [
    {
     "data": {
      "text/plain": [
       "False"
      ]
     },
     "execution_count": 27,
     "metadata": {},
     "output_type": "execute_result"
    }
   ],
   "source": [
    "Edge(Vertex([-0,0],'b'), Vertex([1,0],'w'),'g') == Edge(Vertex([-4,0],'b'), Vertex([1,0],'w'),'g')"
   ]
  },
  {
   "cell_type": "code",
   "execution_count": 28,
   "metadata": {},
   "outputs": [
    {
     "data": {
      "image/png": "[encoded data removed]",
      "text/plain": [
       "<Figure size 432x288 with 1 Axes>"
      ]
     },
     "metadata": {},
     "output_type": "display_data"
    }
   ],
   "source": [
    "show_tile(k)"
   ]
  },
  {
   "cell_type": "code",
   "execution_count": 29,
   "metadata": {},
   "outputs": [
    {
     "data": {
      "image/png": "[encoded data removed]",
      "text/plain": [
       "<Figure size 432x288 with 1 Axes>"
      ]
     },
     "metadata": {},
     "output_type": "display_data"
    }
   ],
   "source": [
    "show_tiles([k, Kite(k.edges[1],False), Dart(k.edges[3],True)])"
   ]
  },
  {
   "cell_type": "code",
   "execution_count": 30,
   "metadata": {},
   "outputs": [
    {
     "data": {
      "image/png": "[encoded data removed]",
      "text/plain": [
       "<Figure size 432x288 with 1 Axes>"
      ]
     },
     "metadata": {},
     "output_type": "display_data"
    }
   ],
   "source": [
    "show_tiles([k, Kite(k.edges[1],True)])"
   ]
  },
  {
   "cell_type": "code",
   "execution_count": 31,
   "metadata": {},
   "outputs": [
    {
     "data": {
      "image/png": "[encoded data removed]",
      "text/plain": [
       "<Figure size 432x288 with 1 Axes>"
      ]
     },
     "metadata": {},
     "output_type": "display_data"
    }
   ],
   "source": [
    "e1 = Edge(Vertex([0,0],'b'), Vertex([0,1],'w'), 'g')\n",
    "plot_edge(prep_ax(),e1, True)\n",
    "plt.show()"
   ]
  },
  {
   "cell_type": "code",
   "execution_count": 32,
   "metadata": {},
   "outputs": [
    {
     "data": {
      "image/png": "[encoded data removed]",
      "text/plain": [
       "<Figure size 432x288 with 1 Axes>"
      ]
     },
     "metadata": {},
     "output_type": "display_data"
    }
   ],
   "source": [
    "d1=Dart(e1)\n",
    "show_tile(d1)"
   ]
  },
  {
   "cell_type": "code",
   "execution_count": 33,
   "metadata": {},
   "outputs": [
    {
     "data": {
      "image/png": "[encoded data removed]",
      "text/plain": [
       "<Figure size 432x288 with 1 Axes>"
      ]
     },
     "metadata": {},
     "output_type": "display_data"
    }
   ],
   "source": [
    "e2 = Edge(Vertex([0,0],'b'), Vertex([0,1],'w'), 'r')\n",
    "plot_edge(prep_ax(),e2, True)\n",
    "plt.show()"
   ]
  },
  {
   "cell_type": "code",
   "execution_count": 34,
   "metadata": {},
   "outputs": [
    {
     "data": {
      "image/png": "[encoded data removed]",
      "text/plain": [
       "<Figure size 432x288 with 1 Axes>"
      ]
     },
     "metadata": {},
     "output_type": "display_data"
    }
   ],
   "source": [
    "d2=Dart(e2)\n",
    "show_tile(d2)"
   ]
  },
  {
   "cell_type": "code",
   "execution_count": 35,
   "metadata": {},
   "outputs": [
    {
     "data": {
      "text/plain": [
       "-1.3763819204711731"
      ]
     },
     "execution_count": 35,
     "metadata": {},
     "output_type": "execute_result"
    }
   ],
   "source": [
    "-math.tan(0.3*math.pi)"
   ]
  },
  {
   "cell_type": "code",
   "execution_count": 36,
   "metadata": {},
   "outputs": [
    {
     "data": {
      "text/plain": [
       "-0.3249196962329063"
      ]
     },
     "execution_count": 36,
     "metadata": {},
     "output_type": "execute_result"
    }
   ],
   "source": [
    "-math.tan(0.1*math.pi)"
   ]
  },
  {
   "cell_type": "code",
   "execution_count": 37,
   "metadata": {},
   "outputs": [
    {
     "data": {
      "text/plain": [
       "range(0, 5)"
      ]
     },
     "execution_count": 37,
     "metadata": {},
     "output_type": "execute_result"
    }
   ],
   "source": [
    "range(5)"
   ]
  },
  {
   "cell_type": "code",
   "execution_count": 38,
   "metadata": {},
   "outputs": [
    {
     "data": {
      "image/png": "[encoded data removed]",
      "text/plain": [
       "<Figure size 432x288 with 1 Axes>"
      ]
     },
     "metadata": {},
     "output_type": "display_data"
    }
   ],
   "source": [
    "show_tiles(star(e1))"
   ]
  },
  {
   "cell_type": "code",
   "execution_count": 39,
   "metadata": {},
   "outputs": [
    {
     "data": {
      "image/png": "[encoded data removed]",
      "text/plain": [
       "<Figure size 432x288 with 1 Axes>"
      ]
     },
     "metadata": {},
     "output_type": "display_data"
    }
   ],
   "source": [
    "show_tiles(sun(e1))"
   ]
  },
  {
   "cell_type": "code",
   "execution_count": null,
   "metadata": {},
   "outputs": [],
   "source": []
  }
 ],
 "metadata": {
  "kernelspec": {
   "display_name": "Python 3",
   "language": "python",
   "name": "python3"
  },
  "language_info": {
   "codemirror_mode": {
    "name": "ipython",
    "version": 3
   },
   "file_extension": ".py",
   "mimetype": "text/x-python",
   "name": "python",
   "nbconvert_exporter": "python",
   "pygments_lexer": "ipython3",
   "version": "3.6.5"
  }
 },
 "nbformat": 4,
 "nbformat_minor": 2
}
