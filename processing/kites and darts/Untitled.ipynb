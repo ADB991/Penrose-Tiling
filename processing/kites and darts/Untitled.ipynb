{
 "cells": [
  {
   "cell_type": "code",
   "execution_count": 1,
   "metadata": {},
   "outputs": [],
   "source": [
    "from tiles import *"
   ]
  },
  {
   "cell_type": "code",
   "execution_count": 2,
   "metadata": {},
   "outputs": [
    {
     "name": "stdout",
     "output_type": "stream",
     "text": [
      "White vertex at [0.0, 0.0]\n",
      "False\n",
      "False\n"
     ]
    }
   ],
   "source": [
    "v1 = Vertex([0,0], 'w')\n",
    "v2 = Vertex([0,4], 'w')\n",
    "print(v1)\n",
    "print(v1==v2)\n",
    "v2.colour = 'b'\n",
    "print(v1==v2)"
   ]
  },
  {
   "cell_type": "code",
   "execution_count": 3,
   "metadata": {},
   "outputs": [
    {
     "data": {
      "text/plain": [
       "[0.0, 1.0]"
      ]
     },
     "execution_count": 3,
     "metadata": {},
     "output_type": "execute_result"
    }
   ],
   "source": [
    "v = Vector([0,1])\n",
    "v"
   ]
  },
  {
   "cell_type": "code",
   "execution_count": 4,
   "metadata": {},
   "outputs": [
    {
     "data": {
      "text/plain": [
       "[0.0, 1.0]"
      ]
     },
     "execution_count": 4,
     "metadata": {},
     "output_type": "execute_result"
    }
   ],
   "source": [
    "list(v)"
   ]
  },
  {
   "cell_type": "code",
   "execution_count": 5,
   "metadata": {},
   "outputs": [],
   "source": [
    "e = Edge(v1, v2, 'g')"
   ]
  },
  {
   "cell_type": "code",
   "execution_count": 6,
   "metadata": {},
   "outputs": [
    {
     "data": {
      "text/plain": [
       "-228585832192292872"
      ]
     },
     "execution_count": 6,
     "metadata": {},
     "output_type": "execute_result"
    }
   ],
   "source": [
    "hash(e)"
   ]
  },
  {
   "cell_type": "code",
   "execution_count": 7,
   "metadata": {},
   "outputs": [
    {
     "data": {
      "text/plain": [
       "(White vertex at [0.0, 0.0], Black vertex at [0.0, 4.0])"
      ]
     },
     "execution_count": 7,
     "metadata": {},
     "output_type": "execute_result"
    }
   ],
   "source": [
    "e.vertices"
   ]
  },
  {
   "cell_type": "code",
   "execution_count": 8,
   "metadata": {},
   "outputs": [
    {
     "name": "stdout",
     "output_type": "stream",
     "text": [
      "True\n",
      "True\n"
     ]
    }
   ],
   "source": [
    "print(v1 in e)\n",
    "v1.colour='w'\n",
    "print(v1 in e)"
   ]
  },
  {
   "cell_type": "code",
   "execution_count": 9,
   "metadata": {},
   "outputs": [],
   "source": [
    "x = [v1, v2]"
   ]
  },
  {
   "cell_type": "code",
   "execution_count": 10,
   "metadata": {},
   "outputs": [
    {
     "data": {
      "text/plain": [
       "2"
      ]
     },
     "execution_count": 10,
     "metadata": {},
     "output_type": "execute_result"
    }
   ],
   "source": [
    "len(set(x))"
   ]
  },
  {
   "cell_type": "code",
   "execution_count": 11,
   "metadata": {},
   "outputs": [
    {
     "name": "stdout",
     "output_type": "stream",
     "text": [
      "White vertex at [0.0, 0.0]\n"
     ]
    }
   ],
   "source": [
    "print(e.white_vertex)"
   ]
  },
  {
   "cell_type": "code",
   "execution_count": 12,
   "metadata": {},
   "outputs": [
    {
     "data": {
      "text/plain": [
       "0.8660254037844387"
      ]
     },
     "execution_count": 12,
     "metadata": {},
     "output_type": "execute_result"
    }
   ],
   "source": [
    "math.cos(math.pi/6)"
   ]
  },
  {
   "cell_type": "code",
   "execution_count": 13,
   "metadata": {},
   "outputs": [
    {
     "data": {
      "text/plain": [
       "(0.0, 0.0)"
      ]
     },
     "execution_count": 13,
     "metadata": {},
     "output_type": "execute_result"
    }
   ],
   "source": [
    "v1.coords"
   ]
  },
  {
   "cell_type": "code",
   "execution_count": 14,
   "metadata": {},
   "outputs": [],
   "source": [
    "k = Kite(e)"
   ]
  },
  {
   "cell_type": "code",
   "execution_count": 15,
   "metadata": {},
   "outputs": [
    {
     "data": {
      "text/plain": [
       "(Green edge between (0.0, 0.0) and (0.0, 4.0),\n",
       " Red edge between (0.0, 4.0) and (-2.351141009169892, 3.2360679774997894),\n",
       " Red edge between (-2.351141009169892, 3.2360679774997894) and (-3.804226065180614, 1.2360679774997898),\n",
       " Green edge between (-3.804226065180614, 1.2360679774997898) and (0.0, 0.0))"
      ]
     },
     "execution_count": 15,
     "metadata": {},
     "output_type": "execute_result"
    }
   ],
   "source": [
    "k.edges"
   ]
  },
  {
   "cell_type": "code",
   "execution_count": 16,
   "metadata": {},
   "outputs": [
    {
     "data": {
      "text/plain": [
       "(Red edge between (0.0, 0.0) and (0.0, 4.0),\n",
       " Green edge between (0.0, 4.0) and (-6.155367074350506, 2.0000000000000004),\n",
       " Green edge between (-6.155367074350506, 2.0000000000000004) and (-2.351141009169893, -3.2360679774997894),\n",
       " Red edge between (-2.351141009169893, -3.2360679774997894) and (0.0, 0.0))"
      ]
     },
     "execution_count": 16,
     "metadata": {},
     "output_type": "execute_result"
    }
   ],
   "source": [
    "e1 = Edge(v1, v2, 'r')\n",
    "k1 = Kite(e1)\n",
    "k1.edges"
   ]
  },
  {
   "cell_type": "code",
   "execution_count": 17,
   "metadata": {},
   "outputs": [
    {
     "data": {
      "text/plain": [
       "(Red edge between (0.0, 0.0) and (0.0, 4.0),\n",
       " Green edge between (0.0, 4.0) and (-6.155367074350506, 2.0000000000000004),\n",
       " Green edge between (-6.155367074350506, 2.0000000000000004) and (-2.351141009169893, -3.2360679774997894),\n",
       " Red edge between (-2.351141009169893, -3.2360679774997894) and (0.0, 0.0))"
      ]
     },
     "execution_count": 17,
     "metadata": {},
     "output_type": "execute_result"
    }
   ],
   "source": [
    "k2 = BetterKite(e1)\n",
    "k2.edges"
   ]
  },
  {
   "cell_type": "code",
   "execution_count": 22,
   "metadata": {},
   "outputs": [
    {
     "data": {
      "text/plain": [
       "(Red edge between (0.0, 0.0) and (0.0, 4.0),\n",
       " Red edge between (0.0, 4.0) and (2.351141009169893, 7.23606797749979),\n",
       " Green edge between (2.351141009169893, 7.23606797749979) and (4.9797965697655595, 2.381966011250106),\n",
       " Green edge between (4.9797965697655595, 2.381966011250106) and (0.0, 0.0))"
      ]
     },
     "execution_count": 22,
     "metadata": {},
     "output_type": "execute_result"
    }
   ],
   "source": [
    "d1 = Dart(e1)\n",
    "d1.edges"
   ]
  },
  {
   "cell_type": "code",
   "execution_count": 24,
   "metadata": {},
   "outputs": [
    {
     "data": {
      "text/plain": [
       "(Green edge between (0.0, 0.0) and (0.0, 4.0),\n",
       " Red edge between (0.0, 0.0) and (4.2235393684426793e-16, 3.9999999999999996),\n",
       " Red edge between (4.2235393684426793e-16, 3.9999999999999996) and (3.804226065180614, 2.76393202250021),\n",
       " Green edge between (3.804226065180614, 2.76393202250021) and (0.0, 4.0))"
      ]
     },
     "execution_count": 24,
     "metadata": {},
     "output_type": "execute_result"
    }
   ],
   "source": [
    "d2 = Dart(e)\n",
    "d2.edges"
   ]
  },
  {
   "cell_type": "code",
   "execution_count": 18,
   "metadata": {},
   "outputs": [
    {
     "data": {
      "text/plain": [
       "False"
      ]
     },
     "execution_count": 18,
     "metadata": {},
     "output_type": "execute_result"
    }
   ],
   "source": [
    "v1.rotate_vector(v2/4, math.pi) +v2/4 == Vector([0,0])"
   ]
  },
  {
   "cell_type": "code",
   "execution_count": 19,
   "metadata": {},
   "outputs": [],
   "source": [
    "#THIS IS AN IMPORTANT PROBLEM!! We need differences to be not too precise, more leninet 10*-10 = 0"
   ]
  },
  {
   "cell_type": "code",
   "execution_count": 20,
   "metadata": {},
   "outputs": [
    {
     "data": {
      "text/plain": [
       "2975175073483174066"
      ]
     },
     "execution_count": 20,
     "metadata": {},
     "output_type": "execute_result"
    }
   ],
   "source": [
    "hash(k)"
   ]
  },
  {
   "cell_type": "code",
   "execution_count": 25,
   "metadata": {},
   "outputs": [],
   "source": [
    "import matplotlib.pyplot as plt"
   ]
  },
  {
   "cell_type": "code",
   "execution_count": 46,
   "metadata": {},
   "outputs": [],
   "source": [
    "def plot_vertex(v):\n",
    "    x, y = v.coords\n",
    "    c = 'bo' if v.colour == 'b' else 'yo'\n",
    "    plt.plot(x,y,c)\n",
    "    \n",
    "def plot_edge(e, with_vertices=False):\n",
    "    v1, v2 = e.vertices\n",
    "    x = [v1[0], v2[0]]\n",
    "    y = [v1[1], v2[1]]\n",
    "    if with_vertices:\n",
    "        for v in e.vertices: plot_vertex(v)\n",
    "    plt.plot(x,y,e.colour)\n",
    "    \n",
    "def plot_tile(tile):\n",
    "    for e in tile.edges: plot_edge(e)\n",
    "    for v in tile.vertices: plot_vertex(v)"
   ]
  },
  {
   "cell_type": "code",
   "execution_count": 47,
   "metadata": {},
   "outputs": [
    {
     "data": {
      "image/png": "[encoded data removed]",
      "text/plain": [
       "<Figure size 432x288 with 1 Axes>"
      ]
     },
     "metadata": {},
     "output_type": "display_data"
    }
   ],
   "source": [
    "plot_tile(k)\n",
    "plt.show()"
   ]
  },
  {
   "cell_type": "code",
   "execution_count": 31,
   "metadata": {},
   "outputs": [
    {
     "data": {
      "text/plain": [
       "0.0"
      ]
     },
     "execution_count": 31,
     "metadata": {},
     "output_type": "execute_result"
    }
   ],
   "source": [
    "v1[0]"
   ]
  },
  {
   "cell_type": "code",
   "execution_count": null,
   "metadata": {},
   "outputs": [],
   "source": []
  }
 ],
 "metadata": {
  "kernelspec": {
   "display_name": "Python 3",
   "language": "python",
   "name": "python3"
  },
  "language_info": {
   "codemirror_mode": {
    "name": "ipython",
    "version": 3
   },
   "file_extension": ".py",
   "mimetype": "text/x-python",
   "name": "python",
   "nbconvert_exporter": "python",
   "pygments_lexer": "ipython3",
   "version": "3.6.5"
  }
 },
 "nbformat": 4,
 "nbformat_minor": 2
}
